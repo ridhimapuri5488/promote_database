{
 "cells": [
  {
   "cell_type": "code",
   "execution_count": 6,
   "metadata": {},
   "outputs": [],
   "source": [
    "config = dict(\n",
    "    api_super_token = 'ABCD1234ABCD1234ABCD1234ABCD1234ABCD1234ABCD1234ABCD1234ABCD1234',\n",
    "    api_token       = 'E41D173E1A3580CF084E81159419249D',\n",
    "    api_url         = b\"https://www.ctsiredcap.pitt.edu/redcap/api/\"\n",
    ")"
   ]
  },
  {
   "cell_type": "code",
   "execution_count": 7,
   "metadata": {},
   "outputs": [
    {
     "data": {
      "text/plain": [
       "b'https://www.ctsiredcap.pitt.edu/redcap/api/'"
      ]
     },
     "execution_count": 7,
     "metadata": {},
     "output_type": "execute_result"
    }
   ],
   "source": [
    "config['api_url']"
   ]
  },
  {
   "cell_type": "code",
   "execution_count": 5,
   "metadata": {},
   "outputs": [
    {
     "name": "stdout",
     "output_type": "stream",
     "text": [
      "The pastebin URL is:[{\"record_id\":\"1\",\"redcap_event_name\":\"week_0_arm_1\",\"name_first\":\"\",\"name_middle\":\"\",\"name_last\":\"\",\"dob_d5b68a\":\"\",\"doe\":\"\",\"id_primary\":\"\",\"id_secondary\":\"\",\"id_imsms\":\"\",\"id_med_record_number\":\"\",\"subject_group\":\"\",\"email\":\"\",\"additional_notes\":\"\",\"basic_information_complete\":\"0\",\"dep_dx\":\"0\",\"dep_med\":\"0\",\"dep_rx\":\"0\",\"depressionscreening_complete\":\"\",\"phq_1\":\"\",\"phq_2\":\"\",\"phq_3\":\"\",\"phq_4\":\"\",\"phq_5\":\"\",\"phq_6\":\"\",\"phq_7\":\"\",\"phq_8\":\"\",\"phq_9\":\"\",\"phq_10\":\"\",\"phq_11\":\"\",\"phq_12\":\"\",\"biweeklyq_complete\":\"\",\"pddsv2\":\"\",\"pddsv2_uc\":\"\",\"msrsr_1\":\"\",\"msrsr_2\":\"\",\"msrsr_3\":\"\",\"msrsr_4\":\"\",\"msrsr_5\":\"\",\"msrsr_6\":\"\",\"msrsr_7\":\"\",\"msrsr_8\":\"\",\"phq_m1\":\"\",\"phq_m2\":\"\",\"phq_m3\":\"\",\"phq_m4\":\"\",\"phq_m5\":\"\",\"phq_m6\":\"\",\"phq_m7\":\"\",\"phq_m8\":\"\",\"phq_m9\":\"\",\"phq_m10\":\"\",\"phq_m11\":\"\",\"phq_12_e49e0d\":\"\",\"pss_m1\":\"\",\"pss_m2\":\"\",\"pss_m3\":\"\",\"pss_m4\":\"\",\"pss_m5\":\"\",\"pss_m6\":\"\",\"pss_m7\":\"\",\"pss_m8\":\"\",\"pss_m9\":\"\",\"pss_m10\":\"\",\"mfis_1_d9173d\":\"\",\"mfis_2_d71f66\":\"\",\"mfis_3_8c1a00\":\"\",\"mfis_4_89f111\":\"\",\"mfis_5_d8acb1\":\"\",\"psqi_1\":\"\",\"psqi_2\":\"\",\"psqi_3\":\"\",\"psqi_4\":\"\",\"psqi_5a\":\"\",\"psqi_5b\":\"\",\"psqi_5c\":\"\",\"psqi_5d\":\"\",\"psqi_5e\":\"\",\"psqi_5f\":\"\",\"psqi_5g\":\"\",\"psqi_5h\":\"\",\"psqi_5i\":\"\",\"psqi_5j\":\"\",\"psqi_other\":\"\",\"psqi_6\":\"\",\"psqi_7\":\"\",\"psqi_8\":\"\",\"psqi_overall\":\"\",\"monthlyq_complete\":\"0\"},{\"record_id\":\"2\",\"redcap_event_name\":\"week_0_arm_1\",\"name_first\":\"\",\"name_middle\":\"\",\"name_last\":\"\",\"dob_d5b68a\":\"\",\"doe\":\"\",\"id_primary\":\"\",\"id_secondary\":\"\",\"id_imsms\":\"\",\"id_med_record_number\":\"\",\"subject_group\":\"\",\"email\":\"\",\"additional_notes\":\"\",\"basic_information_complete\":\"0\",\"dep_dx\":\"0\",\"dep_med\":\"0\",\"dep_rx\":\"0\",\"depressionscreening_complete\":\"\",\"phq_1\":\"\",\"phq_2\":\"\",\"phq_3\":\"\",\"phq_4\":\"\",\"phq_5\":\"\",\"phq_6\":\"\",\"phq_7\":\"\",\"phq_8\":\"\",\"phq_9\":\"\",\"phq_10\":\"\",\"phq_11\":\"\",\"phq_12\":\"\",\"biweeklyq_complete\":\"\",\"pddsv2\":\"\",\"pddsv2_uc\":\"\",\"msrsr_1\":\"\",\"msrsr_2\":\"\",\"msrsr_3\":\"\",\"msrsr_4\":\"\",\"msrsr_5\":\"\",\"msrsr_6\":\"\",\"msrsr_7\":\"\",\"msrsr_8\":\"\",\"phq_m1\":\"\",\"phq_m2\":\"\",\"phq_m3\":\"\",\"phq_m4\":\"\",\"phq_m5\":\"\",\"phq_m6\":\"\",\"phq_m7\":\"\",\"phq_m8\":\"\",\"phq_m9\":\"\",\"phq_m10\":\"\",\"phq_m11\":\"\",\"phq_12_e49e0d\":\"\",\"pss_m1\":\"\",\"pss_m2\":\"\",\"pss_m3\":\"\",\"pss_m4\":\"\",\"pss_m5\":\"\",\"pss_m6\":\"\",\"pss_m7\":\"\",\"pss_m8\":\"\",\"pss_m9\":\"\",\"pss_m10\":\"\",\"mfis_1_d9173d\":\"\",\"mfis_2_d71f66\":\"\",\"mfis_3_8c1a00\":\"\",\"mfis_4_89f111\":\"\",\"mfis_5_d8acb1\":\"\",\"psqi_1\":\"\",\"psqi_2\":\"\",\"psqi_3\":\"\",\"psqi_4\":\"\",\"psqi_5a\":\"\",\"psqi_5b\":\"\",\"psqi_5c\":\"\",\"psqi_5d\":\"\",\"psqi_5e\":\"\",\"psqi_5f\":\"\",\"psqi_5g\":\"\",\"psqi_5h\":\"\",\"psqi_5i\":\"\",\"psqi_5j\":\"\",\"psqi_other\":\"\",\"psqi_6\":\"\",\"psqi_7\":\"\",\"psqi_8\":\"\",\"psqi_overall\":\"\",\"monthlyq_complete\":\"0\"},{\"record_id\":\"3\",\"redcap_event_name\":\"week_0_arm_1\",\"name_first\":\"\",\"name_middle\":\"\",\"name_last\":\"\",\"dob_d5b68a\":\"\",\"doe\":\"\",\"id_primary\":\"\",\"id_secondary\":\"\",\"id_imsms\":\"\",\"id_med_record_number\":\"\",\"subject_group\":\"\",\"email\":\"\",\"additional_notes\":\"\",\"basic_information_complete\":\"0\",\"dep_dx\":\"\",\"dep_med\":\"\",\"dep_rx\":\"\",\"depressionscreening_complete\":\"\",\"phq_1\":\"\",\"phq_2\":\"\",\"phq_3\":\"\",\"phq_4\":\"\",\"phq_5\":\"\",\"phq_6\":\"\",\"phq_7\":\"\",\"phq_8\":\"\",\"phq_9\":\"\",\"phq_10\":\"\",\"phq_11\":\"\",\"phq_12\":\"\",\"biweeklyq_complete\":\"\",\"pddsv2\":\"\",\"pddsv2_uc\":\"\",\"msrsr_1\":\"\",\"msrsr_2\":\"\",\"msrsr_3\":\"\",\"msrsr_4\":\"\",\"msrsr_5\":\"\",\"msrsr_6\":\"\",\"msrsr_7\":\"\",\"msrsr_8\":\"\",\"phq_m1\":\"\",\"phq_m2\":\"\",\"phq_m3\":\"\",\"phq_m4\":\"\",\"phq_m5\":\"\",\"phq_m6\":\"\",\"phq_m7\":\"\",\"phq_m8\":\"\",\"phq_m9\":\"\",\"phq_m10\":\"\",\"phq_m11\":\"\",\"phq_12_e49e0d\":\"\",\"pss_m1\":\"\",\"pss_m2\":\"\",\"pss_m3\":\"\",\"pss_m4\":\"\",\"pss_m5\":\"\",\"pss_m6\":\"\",\"pss_m7\":\"\",\"pss_m8\":\"\",\"pss_m9\":\"\",\"pss_m10\":\"\",\"mfis_1_d9173d\":\"\",\"mfis_2_d71f66\":\"\",\"mfis_3_8c1a00\":\"\",\"mfis_4_89f111\":\"\",\"mfis_5_d8acb1\":\"\",\"psqi_1\":\"\",\"psqi_2\":\"\",\"psqi_3\":\"\",\"psqi_4\":\"\",\"psqi_5a\":\"\",\"psqi_5b\":\"\",\"psqi_5c\":\"\",\"psqi_5d\":\"\",\"psqi_5e\":\"\",\"psqi_5f\":\"\",\"psqi_5g\":\"\",\"psqi_5h\":\"\",\"psqi_5i\":\"\",\"psqi_5j\":\"\",\"psqi_other\":\"\",\"psqi_6\":\"\",\"psqi_7\":\"\",\"psqi_8\":\"\",\"psqi_overall\":\"\",\"monthlyq_complete\":\"0\"}]\n"
     ]
    }
   ],
   "source": [
    "import requests\n",
    "from urllib import request, parse\n",
    "data1 = {\n",
    "    \"token\": \"E41D173E1A3580CF084E81159419249D\",\n",
    "    \"content\": \"record\",\n",
    "    \"format\": \"json\",\n",
    "    \"type\": \"flat\"\n",
    "}\n",
    "r = requests.post(url = 'https://www.ctsiredcap.pitt.edu/redcap/api/', data = data1) \n",
    "pastebin_url = r.text \n",
    "print(\"The pastebin URL is:%s\"%pastebin_url) "
   ]
  },
  {
   "cell_type": "code",
   "execution_count": null,
   "metadata": {},
   "outputs": [],
   "source": []
  }
 ],
 "metadata": {
  "kernelspec": {
   "display_name": "Python 3",
   "language": "python",
   "name": "python3"
  },
  "language_info": {
   "codemirror_mode": {
    "name": "ipython",
    "version": 3
   },
   "file_extension": ".py",
   "mimetype": "text/x-python",
   "name": "python",
   "nbconvert_exporter": "python",
   "pygments_lexer": "ipython3",
   "version": "3.6.8"
  }
 },
 "nbformat": 4,
 "nbformat_minor": 2
}
