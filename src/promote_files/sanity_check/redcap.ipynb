{
 "cells": [
  {
   "cell_type": "code",
   "execution_count": 6,
   "metadata": {},
   "outputs": [],
   "source": [
    "config = dict(\n",
    "    api_super_token = 'ABCD1234ABCD1234ABCD1234ABCD1234ABCD1234ABCD1234ABCD1234ABCD1234',\n",
    "    api_token       = 'E41D173E1A3580CF084E81159419249D',\n",
    "    api_url         = b\"https://www.ctsiredcap.pitt.edu/redcap/api/\"\n",
    ")"
   ]
  },
  {
   "cell_type": "code",
   "execution_count": 7,
   "metadata": {},
   "outputs": [
    {
     "data": {
      "text/plain": [
       "b'https://www.ctsiredcap.pitt.edu/redcap/api/'"
      ]
     },
     "execution_count": 7,
     "metadata": {},
     "output_type": "execute_result"
    }
   ],
   "source": [
    "config['api_url']"
   ]
  },
  {
   "cell_type": "code",
   "execution_count": 1,
   "metadata": {},
   "outputs": [
    {
     "name": "stdout",
     "output_type": "stream",
     "text": [
      "The pastebin URL is:[{\"record_id\":\"1\",\"redcap_event_name\":\"week_0_arm_1\",\"name_first\":\"\",\"name_middle\":\"\",\"name_last\":\"\",\"dob_d5b68a\":\"\",\"doe\":\"\",\"id_primary\":\"\",\"id_secondary\":\"\",\"id_imsms\":\"\",\"id_med_record_number\":\"\",\"subject_group\":\"\",\"email\":\"\",\"additional_notes\":\"\",\"basic_information_complete\":\"0\",\"dep_dx\":\"0\",\"dep_med\":\"0\",\"dep_rx\":\"0\",\"depressionscreening_complete\":\"\",\"phq_1\":\"\",\"phq_2\":\"\",\"phq_3\":\"\",\"phq_4\":\"\",\"phq_5\":\"\",\"phq_6\":\"\",\"phq_7\":\"\",\"phq_8\":\"\",\"phq_9\":\"\",\"phq_10\":\"\",\"phq_11\":\"\",\"phq_12\":\"\",\"biweeklyq_complete\":\"\",\"pddsv2\":\"\",\"pddsv2_uc\":\"\",\"msrsr_1\":\"\",\"msrsr_2\":\"\",\"msrsr_3\":\"\",\"msrsr_4\":\"\",\"msrsr_5\":\"\",\"msrsr_6\":\"\",\"msrsr_7\":\"\",\"msrsr_8\":\"\",\"phq_m1\":\"\",\"phq_m2\":\"\",\"phq_m3\":\"\",\"phq_m4\":\"\",\"phq_m5\":\"\",\"phq_m6\":\"\",\"phq_m7\":\"\",\"phq_m8\":\"\",\"phq_m9\":\"\",\"phq_m10\":\"\",\"phq_m11\":\"\",\"phq_12_e49e0d\":\"\",\"pss_m1\":\"\",\"pss_m2\":\"\",\"pss_m3\":\"\",\"pss_m4\":\"\",\"pss_m5\":\"\",\"pss_m6\":\"\",\"pss_m7\":\"\",\"pss_m8\":\"\",\"pss_m9\":\"\",\"pss_m10\":\"\",\"mfis_1_d9173d\":\"\",\"mfis_2_d71f66\":\"\",\"mfis_3_8c1a00\":\"\",\"mfis_4_89f111\":\"\",\"mfis_5_d8acb1\":\"\",\"psqi_1\":\"\",\"psqi_2\":\"\",\"psqi_3\":\"\",\"psqi_4\":\"\",\"psqi_5a\":\"\",\"psqi_5b\":\"\",\"psqi_5c\":\"\",\"psqi_5d\":\"\",\"psqi_5e\":\"\",\"psqi_5f\":\"\",\"psqi_5g\":\"\",\"psqi_5h\":\"\",\"psqi_5i\":\"\",\"psqi_5j\":\"\",\"psqi_other\":\"\",\"psqi_6\":\"\",\"psqi_7\":\"\",\"psqi_8\":\"\",\"psqi_overall\":\"\",\"monthlyq_complete\":\"0\"},{\"record_id\":\"2\",\"redcap_event_name\":\"week_0_arm_1\",\"name_first\":\"\",\"name_middle\":\"\",\"name_last\":\"\",\"dob_d5b68a\":\"\",\"doe\":\"\",\"id_primary\":\"\",\"id_secondary\":\"\",\"id_imsms\":\"\",\"id_med_record_number\":\"\",\"subject_group\":\"\",\"email\":\"\",\"additional_notes\":\"\",\"basic_information_complete\":\"0\",\"dep_dx\":\"0\",\"dep_med\":\"0\",\"dep_rx\":\"0\",\"depressionscreening_complete\":\"\",\"phq_1\":\"\",\"phq_2\":\"\",\"phq_3\":\"\",\"phq_4\":\"\",\"phq_5\":\"\",\"phq_6\":\"\",\"phq_7\":\"\",\"phq_8\":\"\",\"phq_9\":\"\",\"phq_10\":\"\",\"phq_11\":\"\",\"phq_12\":\"\",\"biweeklyq_complete\":\"\",\"pddsv2\":\"\",\"pddsv2_uc\":\"\",\"msrsr_1\":\"\",\"msrsr_2\":\"\",\"msrsr_3\":\"\",\"msrsr_4\":\"\",\"msrsr_5\":\"\",\"msrsr_6\":\"\",\"msrsr_7\":\"\",\"msrsr_8\":\"\",\"phq_m1\":\"\",\"phq_m2\":\"\",\"phq_m3\":\"\",\"phq_m4\":\"\",\"phq_m5\":\"\",\"phq_m6\":\"\",\"phq_m7\":\"\",\"phq_m8\":\"\",\"phq_m9\":\"\",\"phq_m10\":\"\",\"phq_m11\":\"\",\"phq_12_e49e0d\":\"\",\"pss_m1\":\"\",\"pss_m2\":\"\",\"pss_m3\":\"\",\"pss_m4\":\"\",\"pss_m5\":\"\",\"pss_m6\":\"\",\"pss_m7\":\"\",\"pss_m8\":\"\",\"pss_m9\":\"\",\"pss_m10\":\"\",\"mfis_1_d9173d\":\"\",\"mfis_2_d71f66\":\"\",\"mfis_3_8c1a00\":\"\",\"mfis_4_89f111\":\"\",\"mfis_5_d8acb1\":\"\",\"psqi_1\":\"\",\"psqi_2\":\"\",\"psqi_3\":\"\",\"psqi_4\":\"\",\"psqi_5a\":\"\",\"psqi_5b\":\"\",\"psqi_5c\":\"\",\"psqi_5d\":\"\",\"psqi_5e\":\"\",\"psqi_5f\":\"\",\"psqi_5g\":\"\",\"psqi_5h\":\"\",\"psqi_5i\":\"\",\"psqi_5j\":\"\",\"psqi_other\":\"\",\"psqi_6\":\"\",\"psqi_7\":\"\",\"psqi_8\":\"\",\"psqi_overall\":\"\",\"monthlyq_complete\":\"0\"},{\"record_id\":\"3\",\"redcap_event_name\":\"week_0_arm_1\",\"name_first\":\"\",\"name_middle\":\"\",\"name_last\":\"\",\"dob_d5b68a\":\"\",\"doe\":\"\",\"id_primary\":\"\",\"id_secondary\":\"\",\"id_imsms\":\"\",\"id_med_record_number\":\"\",\"subject_group\":\"\",\"email\":\"\",\"additional_notes\":\"\",\"basic_information_complete\":\"0\",\"dep_dx\":\"\",\"dep_med\":\"\",\"dep_rx\":\"\",\"depressionscreening_complete\":\"\",\"phq_1\":\"\",\"phq_2\":\"\",\"phq_3\":\"\",\"phq_4\":\"\",\"phq_5\":\"\",\"phq_6\":\"\",\"phq_7\":\"\",\"phq_8\":\"\",\"phq_9\":\"\",\"phq_10\":\"\",\"phq_11\":\"\",\"phq_12\":\"\",\"biweeklyq_complete\":\"\",\"pddsv2\":\"\",\"pddsv2_uc\":\"\",\"msrsr_1\":\"\",\"msrsr_2\":\"\",\"msrsr_3\":\"\",\"msrsr_4\":\"\",\"msrsr_5\":\"\",\"msrsr_6\":\"\",\"msrsr_7\":\"\",\"msrsr_8\":\"\",\"phq_m1\":\"\",\"phq_m2\":\"\",\"phq_m3\":\"\",\"phq_m4\":\"\",\"phq_m5\":\"\",\"phq_m6\":\"\",\"phq_m7\":\"\",\"phq_m8\":\"\",\"phq_m9\":\"\",\"phq_m10\":\"\",\"phq_m11\":\"\",\"phq_12_e49e0d\":\"\",\"pss_m1\":\"\",\"pss_m2\":\"\",\"pss_m3\":\"\",\"pss_m4\":\"\",\"pss_m5\":\"\",\"pss_m6\":\"\",\"pss_m7\":\"\",\"pss_m8\":\"\",\"pss_m9\":\"\",\"pss_m10\":\"\",\"mfis_1_d9173d\":\"\",\"mfis_2_d71f66\":\"\",\"mfis_3_8c1a00\":\"\",\"mfis_4_89f111\":\"\",\"mfis_5_d8acb1\":\"\",\"psqi_1\":\"\",\"psqi_2\":\"\",\"psqi_3\":\"\",\"psqi_4\":\"\",\"psqi_5a\":\"\",\"psqi_5b\":\"\",\"psqi_5c\":\"\",\"psqi_5d\":\"\",\"psqi_5e\":\"\",\"psqi_5f\":\"\",\"psqi_5g\":\"\",\"psqi_5h\":\"\",\"psqi_5i\":\"\",\"psqi_5j\":\"\",\"psqi_other\":\"\",\"psqi_6\":\"\",\"psqi_7\":\"\",\"psqi_8\":\"\",\"psqi_overall\":\"\",\"monthlyq_complete\":\"0\"}]\n"
     ]
    }
   ],
   "source": [
    "import requests\n",
    "from urllib import request, parse\n",
    "data1 = {\n",
    "    \"token\": \"E41D173E1A3580CF084E81159419249D\",\n",
    "    \"content\": \"record\",\n",
    "    \"format\": \"json\",\n",
    "    \"type\": \"flat\"\n",
    "}\n",
    "r = requests.post(url = 'https://www.ctsiredcap.pitt.edu/redcap/api/', data = data1) \n",
    "pastebin_url = r.text \n",
    "print(\"The pastebin URL is:%s\"%pastebin_url) "
   ]
  },
  {
   "cell_type": "code",
   "execution_count": 10,
   "metadata": {},
   "outputs": [
    {
     "name": "stdout",
     "output_type": "stream",
     "text": [
      "The pastebin URL is:[{\"record_id\":\"1\",\"redcap_event_name\":\"week_0_arm_1\",\"name_first\":\"\",\"name_middle\":\"\",\"name_last\":\"\",\"dob_d5b68a\":\"\",\"doe\":\"\",\"id_primary\":\"\",\"id_secondary\":\"\",\"id_imsms\":\"\",\"id_med_record_number\":\"\",\"subject_group\":\"\",\"email\":\"\",\"additional_notes\":\"\",\"basic_information_complete\":\"0\",\"dep_dx\":\"0\",\"dep_med\":\"0\",\"dep_rx\":\"0\",\"depressionscreening_complete\":\"\",\"phq_1\":\"\",\"phq_2\":\"\",\"phq_3\":\"\",\"phq_4\":\"\",\"phq_5\":\"\",\"phq_6\":\"\",\"phq_7\":\"\",\"phq_8\":\"\",\"phq_9\":\"\",\"phq_10\":\"\",\"phq_11\":\"\",\"phq_12\":\"\",\"biweeklyq_complete\":\"\",\"pddsv2\":\"\",\"pddsv2_uc\":\"\",\"msrsr_1\":\"\",\"msrsr_2\":\"\",\"msrsr_3\":\"\",\"msrsr_4\":\"\",\"msrsr_5\":\"\",\"msrsr_6\":\"\",\"msrsr_7\":\"\",\"msrsr_8\":\"\",\"phq_m1\":\"\",\"phq_m2\":\"\",\"phq_m3\":\"\",\"phq_m4\":\"\",\"phq_m5\":\"\",\"phq_m6\":\"\",\"phq_m7\":\"\",\"phq_m8\":\"\",\"phq_m9\":\"\",\"phq_m10\":\"\",\"phq_m11\":\"\",\"phq_12_e49e0d\":\"\",\"pss_m1\":\"\",\"pss_m2\":\"\",\"pss_m3\":\"\",\"pss_m4\":\"\",\"pss_m5\":\"\",\"pss_m6\":\"\",\"pss_m7\":\"\",\"pss_m8\":\"\",\"pss_m9\":\"\",\"pss_m10\":\"\",\"mfis_1_d9173d\":\"\",\"mfis_2_d71f66\":\"\",\"mfis_3_8c1a00\":\"\",\"mfis_4_89f111\":\"\",\"mfis_5_d8acb1\":\"\",\"psqi_1\":\"\",\"psqi_2\":\"\",\"psqi_3\":\"\",\"psqi_4\":\"\",\"psqi_5a\":\"\",\"psqi_5b\":\"\",\"psqi_5c\":\"\",\"psqi_5d\":\"\",\"psqi_5e\":\"\",\"psqi_5f\":\"\",\"psqi_5g\":\"\",\"psqi_5h\":\"\",\"psqi_5i\":\"\",\"psqi_5j\":\"\",\"psqi_other\":\"\",\"psqi_6\":\"\",\"psqi_7\":\"\",\"psqi_8\":\"\",\"psqi_overall\":\"\",\"monthlyq_complete\":\"0\"}]\n"
     ]
    }
   ],
   "source": [
    "records= {\n",
    "    \"token\": \"E41D173E1A3580CF084E81159419249D\",\n",
    "    \"content\": \"record\",\n",
    "    \"format\": \"json\",\n",
    "    \"type\": \"flat\",\n",
    "    \"records\": 1,\n",
    "    \"rawOrLabel\": \"raw\",\n",
    "    \"rawOrLabelHeaders\": \"raw\",\n",
    "    \"exportCheckboxLabel\": False,\n",
    "    \"exportSurveyFields\": False,\n",
    "    \"exportDataAccessGroups\": False,\n",
    "    \"returnFormat\": \"json\"\n",
    "}\n",
    "r = requests.post(url = 'https://www.ctsiredcap.pitt.edu/redcap/api/', data = records) \n",
    "pastebin_url = r.text \n",
    "print(\"The pastebin URL is:%s\"%pastebin_url) "
   ]
  },
  {
   "cell_type": "code",
   "execution_count": 11,
   "metadata": {},
   "outputs": [
    {
     "name": "stdout",
     "output_type": "stream",
     "text": [
      "The pastebin URL is:[{\"event_name\":\"Week 0\",\"arm_num\":1,\"day_offset\":0,\"offset_min\":0,\"offset_max\":0,\"unique_event_name\":\"week_0_arm_1\",\"custom_event_label\":null},{\"event_name\":\"Week 1\",\"arm_num\":1,\"day_offset\":7,\"offset_min\":0,\"offset_max\":0,\"unique_event_name\":\"week_1_arm_1\",\"custom_event_label\":null},{\"event_name\":\"Week 2\",\"arm_num\":1,\"day_offset\":14,\"offset_min\":0,\"offset_max\":0,\"unique_event_name\":\"week_2_arm_1\",\"custom_event_label\":null},{\"event_name\":\"Week 4\",\"arm_num\":1,\"day_offset\":28,\"offset_min\":0,\"offset_max\":0,\"unique_event_name\":\"week_4_arm_1\",\"custom_event_label\":null},{\"event_name\":\"Week 6\",\"arm_num\":1,\"day_offset\":42,\"offset_min\":0,\"offset_max\":0,\"unique_event_name\":\"week_6_arm_1\",\"custom_event_label\":null},{\"event_name\":\"Week 8\",\"arm_num\":1,\"day_offset\":56,\"offset_min\":0,\"offset_max\":0,\"unique_event_name\":\"week_8_arm_1\",\"custom_event_label\":null},{\"event_name\":\"Week 10\",\"arm_num\":1,\"day_offset\":70,\"offset_min\":0,\"offset_max\":0,\"unique_event_name\":\"week_10_arm_1\",\"custom_event_label\":null},{\"event_name\":\"Week 12\",\"arm_num\":1,\"day_offset\":84,\"offset_min\":0,\"offset_max\":0,\"unique_event_name\":\"week_12_arm_1\",\"custom_event_label\":null}]\n"
     ]
    }
   ],
   "source": [
    "events = {\n",
    "    \"token\": \"E41D173E1A3580CF084E81159419249D\",\n",
    "    \"content\": \"event\",\n",
    "    \"format\": \"json\",\n",
    "    \"returnFormat\": \"json\"\n",
    "}\n",
    "r = requests.post(url = 'https://www.ctsiredcap.pitt.edu/redcap/api/', data = events) \n",
    "pastebin_url = r.text \n",
    "print(\"The pastebin URL is:%s\"%pastebin_url) "
   ]
  },
  {
   "cell_type": "code",
   "execution_count": 12,
   "metadata": {},
   "outputs": [
    {
     "name": "stdout",
     "output_type": "stream",
     "text": [
      "The pastebin URL is:8.11.11\n"
     ]
    }
   ],
   "source": [
    "version = {\n",
    "    \"token\": \"E41D173E1A3580CF084E81159419249D\",\n",
    "    \"content\": \"version\"\n",
    "}\n",
    "r = requests.post(url = 'https://www.ctsiredcap.pitt.edu/redcap/api/', data = version) \n",
    "pastebin_url = r.text \n",
    "print(\"The pastebin URL is:%s\"%pastebin_url) "
   ]
  },
  {
   "cell_type": "code",
   "execution_count": 13,
   "metadata": {},
   "outputs": [
    {
     "name": "stdout",
     "output_type": "stream",
     "text": [
      "The pastebin URL is:[{\"username\":\"rip35\",\"email\":\"rip35@pitt.edu\",\"firstname\":\"Ridhima\",\"lastname\":\"Puri\",\"expiration\":\"\",\"data_access_group\":\"\",\"data_access_group_id\":\"\",\"design\":0,\"user_rights\":0,\"data_access_groups\":0,\"data_export\":1,\"reports\":1,\"stats_and_charts\":1,\"manage_survey_participants\":1,\"calendar\":1,\"data_import_tool\":1,\"data_comparison_tool\":1,\"logging\":1,\"file_repository\":1,\"data_quality_create\":1,\"data_quality_execute\":1,\"api_export\":1,\"api_import\":1,\"mobile_app\":1,\"mobile_app_download_data\":1,\"record_create\":1,\"record_rename\":1,\"record_delete\":0,\"lock_records_all_forms\":0,\"lock_records\":0,\"lock_records_customization\":0,\"forms\":{\"promote_sensor\":3,\"biweeklyq\":1,\"depressionscreening\":1,\"monthlyq\":1,\"basic_information\":1}},{\"username\":\"shv16\",\"email\":\"shv16@pitt.edu\",\"firstname\":\"Shruthi\",\"lastname\":\"Venkatesh\",\"expiration\":\"\",\"data_access_group\":\"\",\"data_access_group_id\":\"\",\"design\":1,\"user_rights\":1,\"data_access_groups\":1,\"data_export\":1,\"reports\":1,\"stats_and_charts\":1,\"manage_survey_participants\":1,\"calendar\":1,\"data_import_tool\":1,\"data_comparison_tool\":1,\"logging\":1,\"file_repository\":1,\"data_quality_create\":1,\"data_quality_execute\":1,\"api_export\":1,\"api_import\":1,\"mobile_app\":0,\"mobile_app_download_data\":0,\"record_create\":1,\"record_rename\":1,\"record_delete\":1,\"lock_records_all_forms\":0,\"lock_records\":1,\"lock_records_customization\":0,\"forms\":{\"biweeklyq\":1,\"depressionscreening\":1,\"monthlyq\":1,\"basic_information\":1}},{\"username\":\"wez51\",\"email\":\"wez51@pitt.edu\",\"firstname\":\"Wen\",\"lastname\":\"Zhu\",\"expiration\":\"\",\"data_access_group\":\"\",\"data_access_group_id\":\"\",\"design\":1,\"user_rights\":1,\"data_access_groups\":1,\"data_export\":1,\"reports\":1,\"stats_and_charts\":1,\"manage_survey_participants\":1,\"calendar\":1,\"data_import_tool\":1,\"data_comparison_tool\":1,\"logging\":1,\"file_repository\":1,\"data_quality_create\":1,\"data_quality_execute\":1,\"api_export\":1,\"api_import\":1,\"mobile_app\":1,\"mobile_app_download_data\":1,\"record_create\":1,\"record_rename\":1,\"record_delete\":1,\"lock_records_all_forms\":0,\"lock_records\":1,\"lock_records_customization\":0,\"forms\":{\"biweeklyq\":1,\"depressionscreening\":1,\"monthlyq\":1,\"basic_information\":1}}]\n"
     ]
    }
   ],
   "source": [
    "users = {\n",
    "    \"token\": \"E41D173E1A3580CF084E81159419249D\",\n",
    "    \"content\": \"user\",\n",
    "    \"format\": \"json\",\n",
    "    \"returnFormat\": \"json\"\n",
    "}\n",
    "r = requests.post(url = 'https://www.ctsiredcap.pitt.edu/redcap/api/', data = users) \n",
    "pastebin_url = r.text \n",
    "print(\"The pastebin URL is:%s\"%pastebin_url) "
   ]
  },
  {
   "cell_type": "code",
   "execution_count": null,
   "metadata": {},
   "outputs": [],
   "source": []
  },
  {
   "cell_type": "code",
   "execution_count": null,
   "metadata": {},
   "outputs": [],
   "source": []
  }
 ],
 "metadata": {
  "kernelspec": {
   "display_name": "Python 3",
   "language": "python",
   "name": "python3"
  },
  "language_info": {
   "codemirror_mode": {
    "name": "ipython",
    "version": 3
   },
   "file_extension": ".py",
   "mimetype": "text/x-python",
   "name": "python",
   "nbconvert_exporter": "python",
   "pygments_lexer": "ipython3",
   "version": "3.6.8"
  }
 },
 "nbformat": 4,
 "nbformat_minor": 2
}
