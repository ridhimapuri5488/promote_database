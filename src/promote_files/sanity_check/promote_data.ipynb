{
 "cells": [
  {
   "cell_type": "code",
   "execution_count": 1,
   "metadata": {},
   "outputs": [],
   "source": [
    "import numpy as np\n",
    "import pandas as pd"
   ]
  },
  {
   "cell_type": "code",
   "execution_count": 2,
   "metadata": {},
   "outputs": [
    {
     "name": "stdout",
     "output_type": "stream",
     "text": [
      "(1950, 445)\n"
     ]
    }
   ],
   "source": [
    "input_pre = '../csv_files/input_files/'\n",
    "output_pre = '../csv_files/output_files/' \n",
    "main = pd.read_csv(output_pre + 'promote_database.csv')\n",
    "print(main.shape)"
   ]
  },
  {
   "cell_type": "code",
   "execution_count": 1,
   "metadata": {},
   "outputs": [],
   "source": [
    "#list(main)"
   ]
  },
  {
   "cell_type": "code",
   "execution_count": 4,
   "metadata": {},
   "outputs": [],
   "source": [
    "main_columns = list(main)\n",
    "main_complete = [x for x in main_columns if 'complete' in x]"
   ]
  },
  {
   "cell_type": "code",
   "execution_count": 5,
   "metadata": {},
   "outputs": [
    {
     "data": {
      "text/plain": [
       "['basic_information_complete',\n",
       " 'consent_complete',\n",
       " 'pq1_completed',\n",
       " 'primary_questionnaire_complete',\n",
       " 'sro1_completed',\n",
       " 'self_reported_outcome_questionnaire_complete',\n",
       " 'blood_sample_complete',\n",
       " 'subjectq_completed_date',\n",
       " 'promote_ffq_complete',\n",
       " 'stool_sample_complete',\n",
       " 'urine_sample_complete',\n",
       " 'saliva_sample_complete',\n",
       " 'csf_sample_complete',\n",
       " 'dna_sample_complete',\n",
       " 'functional_testing_complete',\n",
       " 'edss_complete',\n",
       " 'sensor_complete',\n",
       " 'cognitive_testing_complete',\n",
       " 'social_network_complete',\n",
       " 'relapse_history_complete',\n",
       " 'dmt_history_complete',\n",
       " 'mri_screening_complete',\n",
       " 't_mri_complete',\n",
       " 'subtle_3t_mri_complete']"
      ]
     },
     "execution_count": 5,
     "metadata": {},
     "output_type": "execute_result"
    }
   ],
   "source": [
    "main_complete"
   ]
  }
 ],
 "metadata": {
  "kernelspec": {
   "display_name": "Python 3",
   "language": "python",
   "name": "python3"
  },
  "language_info": {
   "codemirror_mode": {
    "name": "ipython",
    "version": 3
   },
   "file_extension": ".py",
   "mimetype": "text/x-python",
   "name": "python",
   "nbconvert_exporter": "python",
   "pygments_lexer": "ipython3",
   "version": "3.6.8"
  }
 },
 "nbformat": 4,
 "nbformat_minor": 2
}
