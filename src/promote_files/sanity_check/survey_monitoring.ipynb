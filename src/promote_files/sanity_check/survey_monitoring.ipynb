{
 "cells": [
  {
   "cell_type": "code",
   "execution_count": 1,
   "metadata": {},
   "outputs": [
    {
     "name": "stdout",
     "output_type": "stream",
     "text": [
      "record_id,redcap_event_name,name_first,name_middle,name_last,dob_d5b68a,doe,id_primary,id_secondary,id_imsms,id_med_record_number,subject_group,email,additional_notes,basic_information_complete,dep_dx,dep_med,dep_rx,depressionscreening_complete,phq_1,phq_2,phq_3,phq_4,phq_5,phq_6,phq_7,phq_8,phq_9,phq_10,phq_11,phq_12,biweeklyq_complete,pddsv2,pddsv2_uc,msrsr_1,msrsr_2,msrsr_3,msrsr_4,msrsr_5,msrsr_6,msrsr_7,msrsr_8,phq_m1,phq_m2,phq_m3,phq_m4,phq_m5,phq_m6,phq_m7,phq_m8,phq_m9,phq_m10,phq_m11,phq_12_e49e0d,pss_m1,pss_m2,pss_m3,pss_m4,pss_m5,pss_m6,pss_m7,pss_m8,pss_m9,pss_m10,mfis_1_d9173d,mfis_2_d71f66,mfis_3_8c1a00,mfis_4_89f111,mfis_5_d8acb1,psqi_1,psqi_2,psqi_3,psqi_4,psqi_5a,psqi_5b,psqi_5c,psqi_5d,psqi_5e,psqi_5f,psqi_5g,psqi_5h,psqi_5i,psqi_5j,psqi_other,psqi_6,psqi_7,psqi_8,psqi_overall,monthlyq_complete\n",
      "1,week_0_arm_1,,,,,,,,,,,,,0,0,0,0,,,,,,,,,,,,,,,,,,,,,,,,,,,,,,,,,,,,,,,,,,,,,,,,,,,,,,,,,,,,,,,,,,,,,,,0\n",
      "2,week_0_arm_1,,,,,,,,,,,,,0,0,0,0,,,,,,,,,,,,,,,,,,,,,,,,,,,,,,,,,,,,,,,,,,,,,,,,,,,,,,,,,,,,,,,,,,,,,,,0\n",
      "3,week_0_arm_1,,,,,,,,,,,,,0,,,,,,,,,,,,,,,,,,,,,,,,,,,,,,,,,,,,,,,,,,,,,,,,,,,,,,,,,,,,,,,,,,,,,,,,,,0\n",
      "\n"
     ]
    }
   ],
   "source": [
    "import requests\n",
    "from urllib import request, parse\n",
    "data1 = {\n",
    "    \"token\": \"E41D173E1A3580CF084E81159419249D\",\n",
    "    \"content\": \"record\",\n",
    "    \"format\": \"csv\",\n",
    "    \"type\": \"flat\"\n",
    "}\n",
    "r = requests.post(url = 'https://www.ctsiredcap.pitt.edu/redcap/api/', data = data1) \n",
    "records = r.text \n",
    "print(records) "
   ]
  },
  {
   "cell_type": "code",
   "execution_count": 2,
   "metadata": {},
   "outputs": [],
   "source": [
    "import numpy as np\n",
    "import pandas as pd"
   ]
  },
  {
   "cell_type": "code",
   "execution_count": 3,
   "metadata": {},
   "outputs": [
    {
     "name": "stdout",
     "output_type": "stream",
     "text": [
      "<class 'str'>\n"
     ]
    }
   ],
   "source": [
    "print (type(records))"
   ]
  },
  {
   "cell_type": "code",
   "execution_count": 4,
   "metadata": {},
   "outputs": [],
   "source": [
    " from io import StringIO"
   ]
  },
  {
   "cell_type": "code",
   "execution_count": 5,
   "metadata": {},
   "outputs": [],
   "source": [
    "TESTDATA = StringIO(records)"
   ]
  },
  {
   "cell_type": "code",
   "execution_count": 6,
   "metadata": {},
   "outputs": [],
   "source": [
    "df = pd.read_csv(TESTDATA, sep=\",\")"
   ]
  },
  {
   "cell_type": "code",
   "execution_count": 7,
   "metadata": {},
   "outputs": [
    {
     "data": {
      "text/html": [
       "<div>\n",
       "<style scoped>\n",
       "    .dataframe tbody tr th:only-of-type {\n",
       "        vertical-align: middle;\n",
       "    }\n",
       "\n",
       "    .dataframe tbody tr th {\n",
       "        vertical-align: top;\n",
       "    }\n",
       "\n",
       "    .dataframe thead th {\n",
       "        text-align: right;\n",
       "    }\n",
       "</style>\n",
       "<table border=\"1\" class=\"dataframe\">\n",
       "  <thead>\n",
       "    <tr style=\"text-align: right;\">\n",
       "      <th></th>\n",
       "      <th>record_id</th>\n",
       "      <th>redcap_event_name</th>\n",
       "      <th>name_first</th>\n",
       "      <th>name_middle</th>\n",
       "      <th>name_last</th>\n",
       "      <th>dob_d5b68a</th>\n",
       "      <th>doe</th>\n",
       "      <th>id_primary</th>\n",
       "      <th>id_secondary</th>\n",
       "      <th>id_imsms</th>\n",
       "      <th>...</th>\n",
       "      <th>psqi_5g</th>\n",
       "      <th>psqi_5h</th>\n",
       "      <th>psqi_5i</th>\n",
       "      <th>psqi_5j</th>\n",
       "      <th>psqi_other</th>\n",
       "      <th>psqi_6</th>\n",
       "      <th>psqi_7</th>\n",
       "      <th>psqi_8</th>\n",
       "      <th>psqi_overall</th>\n",
       "      <th>monthlyq_complete</th>\n",
       "    </tr>\n",
       "  </thead>\n",
       "  <tbody>\n",
       "    <tr>\n",
       "      <th>0</th>\n",
       "      <td>1</td>\n",
       "      <td>week_0_arm_1</td>\n",
       "      <td>NaN</td>\n",
       "      <td>NaN</td>\n",
       "      <td>NaN</td>\n",
       "      <td>NaN</td>\n",
       "      <td>NaN</td>\n",
       "      <td>NaN</td>\n",
       "      <td>NaN</td>\n",
       "      <td>NaN</td>\n",
       "      <td>...</td>\n",
       "      <td>NaN</td>\n",
       "      <td>NaN</td>\n",
       "      <td>NaN</td>\n",
       "      <td>NaN</td>\n",
       "      <td>NaN</td>\n",
       "      <td>NaN</td>\n",
       "      <td>NaN</td>\n",
       "      <td>NaN</td>\n",
       "      <td>NaN</td>\n",
       "      <td>0</td>\n",
       "    </tr>\n",
       "    <tr>\n",
       "      <th>1</th>\n",
       "      <td>2</td>\n",
       "      <td>week_0_arm_1</td>\n",
       "      <td>NaN</td>\n",
       "      <td>NaN</td>\n",
       "      <td>NaN</td>\n",
       "      <td>NaN</td>\n",
       "      <td>NaN</td>\n",
       "      <td>NaN</td>\n",
       "      <td>NaN</td>\n",
       "      <td>NaN</td>\n",
       "      <td>...</td>\n",
       "      <td>NaN</td>\n",
       "      <td>NaN</td>\n",
       "      <td>NaN</td>\n",
       "      <td>NaN</td>\n",
       "      <td>NaN</td>\n",
       "      <td>NaN</td>\n",
       "      <td>NaN</td>\n",
       "      <td>NaN</td>\n",
       "      <td>NaN</td>\n",
       "      <td>0</td>\n",
       "    </tr>\n",
       "    <tr>\n",
       "      <th>2</th>\n",
       "      <td>3</td>\n",
       "      <td>week_0_arm_1</td>\n",
       "      <td>NaN</td>\n",
       "      <td>NaN</td>\n",
       "      <td>NaN</td>\n",
       "      <td>NaN</td>\n",
       "      <td>NaN</td>\n",
       "      <td>NaN</td>\n",
       "      <td>NaN</td>\n",
       "      <td>NaN</td>\n",
       "      <td>...</td>\n",
       "      <td>NaN</td>\n",
       "      <td>NaN</td>\n",
       "      <td>NaN</td>\n",
       "      <td>NaN</td>\n",
       "      <td>NaN</td>\n",
       "      <td>NaN</td>\n",
       "      <td>NaN</td>\n",
       "      <td>NaN</td>\n",
       "      <td>NaN</td>\n",
       "      <td>0</td>\n",
       "    </tr>\n",
       "  </tbody>\n",
       "</table>\n",
       "<p>3 rows × 89 columns</p>\n",
       "</div>"
      ],
      "text/plain": [
       "   record_id redcap_event_name  name_first  name_middle  name_last  \\\n",
       "0          1      week_0_arm_1         NaN          NaN        NaN   \n",
       "1          2      week_0_arm_1         NaN          NaN        NaN   \n",
       "2          3      week_0_arm_1         NaN          NaN        NaN   \n",
       "\n",
       "   dob_d5b68a  doe  id_primary  id_secondary  id_imsms  ...  psqi_5g  psqi_5h  \\\n",
       "0         NaN  NaN         NaN           NaN       NaN  ...      NaN      NaN   \n",
       "1         NaN  NaN         NaN           NaN       NaN  ...      NaN      NaN   \n",
       "2         NaN  NaN         NaN           NaN       NaN  ...      NaN      NaN   \n",
       "\n",
       "   psqi_5i  psqi_5j  psqi_other  psqi_6  psqi_7  psqi_8  psqi_overall  \\\n",
       "0      NaN      NaN         NaN     NaN     NaN     NaN           NaN   \n",
       "1      NaN      NaN         NaN     NaN     NaN     NaN           NaN   \n",
       "2      NaN      NaN         NaN     NaN     NaN     NaN           NaN   \n",
       "\n",
       "   monthlyq_complete  \n",
       "0                  0  \n",
       "1                  0  \n",
       "2                  0  \n",
       "\n",
       "[3 rows x 89 columns]"
      ]
     },
     "execution_count": 7,
     "metadata": {},
     "output_type": "execute_result"
    }
   ],
   "source": [
    "df"
   ]
  },
  {
   "cell_type": "code",
   "execution_count": 8,
   "metadata": {},
   "outputs": [
    {
     "name": "stdout",
     "output_type": "stream",
     "text": [
      "0\n",
      "15\n",
      "15\n",
      "19\n",
      "19\n",
      "32\n",
      "32\n",
      "89\n"
     ]
    }
   ],
   "source": [
    "b_start = df.columns.get_loc(\"record_id\")\n",
    "print(b_start)\n",
    "b_end = df.columns.get_loc(\"basic_information_complete\") +1\n",
    "print(b_end)\n",
    "d_start = df.columns.get_loc(\"dep_dx\")\n",
    "print(d_start)\n",
    "d_end = df.columns.get_loc(\"depressionscreening_complete\")+1\n",
    "print(d_end)\n",
    "\n",
    "bi_start = df.columns.get_loc(\"phq_1\")\n",
    "print(bi_start)\n",
    "bi_end = df.columns.get_loc(\"biweeklyq_complete\") +1\n",
    "print(bi_end)\n",
    "m_start = df.columns.get_loc(\"pddsv2\")\n",
    "print(m_start)\n",
    "m_end = df.columns.get_loc(\"monthlyq_complete\")+1\n",
    "print(m_end)"
   ]
  },
  {
   "cell_type": "code",
   "execution_count": null,
   "metadata": {},
   "outputs": [],
   "source": []
  }
 ],
 "metadata": {
  "kernelspec": {
   "display_name": "Python 3",
   "language": "python",
   "name": "python3"
  },
  "language_info": {
   "codemirror_mode": {
    "name": "ipython",
    "version": 3
   },
   "file_extension": ".py",
   "mimetype": "text/x-python",
   "name": "python",
   "nbconvert_exporter": "python",
   "pygments_lexer": "ipython3",
   "version": "3.6.8"
  }
 },
 "nbformat": 4,
 "nbformat_minor": 2
}
