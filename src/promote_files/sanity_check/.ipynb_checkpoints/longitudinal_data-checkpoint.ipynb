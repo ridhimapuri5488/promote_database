{
 "cells": [
  {
   "cell_type": "code",
   "execution_count": 1,
   "metadata": {},
   "outputs": [],
   "source": [
    "import numpy as np\n",
    "import pandas as pd"
   ]
  },
  {
   "cell_type": "code",
   "execution_count": 2,
   "metadata": {},
   "outputs": [
    {
     "name": "stdout",
     "output_type": "stream",
     "text": [
      "(1950, 445)\n"
     ]
    }
   ],
   "source": [
    "input_pre = '../csv_files/input_files/'\n",
    "output_pre = '../csv_files/output_files/' \n",
    "main = pd.read_csv(output_pre + 'promote_database.csv')\n",
    "print(main.shape)"
   ]
  },
  {
   "cell_type": "code",
   "execution_count": 3,
   "metadata": {},
   "outputs": [
    {
     "name": "stderr",
     "output_type": "stream",
     "text": [
      "C:\\Users\\ridhi\\Anaconda3\\lib\\site-packages\\IPython\\core\\interactiveshell.py:3049: DtypeWarning: Columns (21,24,25,31,32,75,195,197,199,209,215,217,219,239,244,247,250,256,262,271,274,277,280,344,369,460,461,465,468,469,470,593,595,598,604,610,619,625,628,631,634,641,645,649,653,697,711,713,782,784,796,876,877,882,921,933,937,1093,1097,1099,1101) have mixed types. Specify dtype option on import or set low_memory=False.\n",
      "  interactivity=interactivity, compiler=compiler, result=result)\n"
     ]
    }
   ],
   "source": [
    "long = pd.read_csv(input_pre + 'longitudinal.csv')"
   ]
  },
  {
   "cell_type": "code",
   "execution_count": 4,
   "metadata": {},
   "outputs": [
    {
     "data": {
      "text/plain": [
       "(1102, 1592)"
      ]
     },
     "execution_count": 4,
     "metadata": {},
     "output_type": "execute_result"
    }
   ],
   "source": [
    "long.shape"
   ]
  },
  {
   "cell_type": "code",
   "execution_count": 5,
   "metadata": {},
   "outputs": [
    {
     "name": "stdout",
     "output_type": "stream",
     "text": [
      "16\n",
      "169\n",
      "169\n",
      "460\n"
     ]
    }
   ],
   "source": [
    "p_start = long.columns.get_loc(\"primary_questionnaire_timestamp\")\n",
    "print(p_start)\n",
    "p_end = long.columns.get_loc(\"primary_questionnaire_complete\") +1\n",
    "print(p_end)\n",
    "s_start = long.columns.get_loc(\"promote_self_reported_outcomes_timestamp\")\n",
    "print(s_start)\n",
    "s_end = long.columns.get_loc(\"promote_self_reported_outcomes_complete\")+1\n",
    "print(s_end)"
   ]
  },
  {
   "cell_type": "code",
   "execution_count": 7,
   "metadata": {},
   "outputs": [],
   "source": [
    "id_series = list(long['id_participant_l'])\n",
    "#list(id_series)"
   ]
  },
  {
   "cell_type": "code",
   "execution_count": 8,
   "metadata": {},
   "outputs": [
    {
     "data": {
      "text/plain": [
       "(1102, 154)"
      ]
     },
     "execution_count": 8,
     "metadata": {},
     "output_type": "execute_result"
    }
   ],
   "source": [
    "primary_df = long.iloc[:,p_start:p_end]\n",
    "#primary_df.shape\n",
    "primary_df['id_participant'] = id_series\n",
    "primary_df.shape"
   ]
  },
  {
   "cell_type": "code",
   "execution_count": 9,
   "metadata": {},
   "outputs": [],
   "source": [
    "self_df = long.iloc[:,s_start:s_end]\n",
    "#primary_df.head()\n",
    "self_df['id_participant'] = id_series\n"
   ]
  },
  {
   "cell_type": "code",
   "execution_count": 10,
   "metadata": {},
   "outputs": [
    {
     "data": {
      "text/plain": [
       "(1102, 292)"
      ]
     },
     "execution_count": 10,
     "metadata": {},
     "output_type": "execute_result"
    }
   ],
   "source": [
    "self_df.shape\n",
    "#self_df['id_participant']"
   ]
  },
  {
   "cell_type": "markdown",
   "metadata": {},
   "source": [
    "###  Self Reported Questions"
   ]
  },
  {
   "cell_type": "code",
   "execution_count": 11,
   "metadata": {},
   "outputs": [
    {
     "data": {
      "text/plain": [
       "38"
      ]
     },
     "execution_count": 11,
     "metadata": {},
     "output_type": "execute_result"
    }
   ],
   "source": [
    "len(self_df[self_df['promote_self_reported_outcomes_complete']==2])"
   ]
  },
  {
   "cell_type": "code",
   "execution_count": 12,
   "metadata": {},
   "outputs": [],
   "source": [
    "#self_df[self_df['dmt_now']==2]\n",
    "dmt_ref = {\n",
    "    \"dmtlist_now___1\":\"aubagio\",\n",
    "    \"dmtlist_now___2\":\"avonex\",\n",
    "    \"dmtlist_now___3\":\"betaseron\",\n",
    "    \"dmtlist_now___4\":\"copaxone\",\n",
    "    \"dmtlist_now___5\":\"extavia\",\n",
    "    \"dmtlist_now___6\":\"gilenya\",\n",
    "    \"dmtlist_now___7\":\"novantrone\",\n",
    "    \"dmtlist_now___8\":\"plegridy\",\n",
    "    \"dmtlist_now___9\":\"rebif\",\n",
    "    \"dmtlist_now___10\":\"tecfidera\",\n",
    "    \"dmtlist_now___11\":\"tysabri\",\n",
    "    \"dmtlist_now___12\":\"other\",\n",
    "    \"dmtlist_now___13\":\"rituxan\",\n",
    "    \"dmtlist_now___14\":\"zinbryta\",\n",
    "    \"dmtlist_now___15\":\"ocrevus\",\n",
    "    \"dmtlist_now___16\":\"lemtrada\",\n",
    "}"
   ]
  },
  {
   "cell_type": "code",
   "execution_count": 13,
   "metadata": {},
   "outputs": [
    {
     "data": {
      "text/plain": [
       "938     PRT180699\n",
       "1003    PRT190894\n",
       "1009    PRT190900\n",
       "Name: id_participant_l, dtype: object"
      ]
     },
     "execution_count": 13,
     "metadata": {},
     "output_type": "execute_result"
    }
   ],
   "source": [
    "import math\n",
    "long.loc[long['dmt_now_tecfidera_duration'].isnull() == False, 'id_participant_l']"
   ]
  },
  {
   "cell_type": "code",
   "execution_count": 14,
   "metadata": {},
   "outputs": [],
   "source": [
    "for i, row in self_df.iterrows():\n",
    "    a = row.dmt_now\n",
    "    if a == 1 or a == 2:\n",
    "        index = 1\n",
    "        for i in range(12):\n",
    "            col_name = 'dmtlist_now___' + str(i+1)\n",
    "            if row[col_name] == 1:\n",
    "                cols = []\n",
    "                cols.append(col_name)\n",
    "                for a in cols:\n",
    "                    if a == \"dmtlist_now___12\":\n",
    "                        print(row.dmt_now_other)\n",
    "                    col_name2 = 'dmt_now_'+ dmt_ref[a] +'_duration'\n",
    "                    if row[col_name2] == math.nan:\n",
    "                        print(row.id_participant)\n",
    "                    col_name3 = 'dmt_now_'+ dmt_ref[a] +'_start'\n",
    "                    if row[col_name3] == math.nan:\n",
    "                        print(row.id_participant)\n",
    "         "
   ]
  },
  {
   "cell_type": "code",
   "execution_count": 15,
   "metadata": {},
   "outputs": [],
   "source": [
    "dmtlist_ref = {\n",
    "    \"dmtlist_past___1\":\"aubagio\",\n",
    "    \"dmtlist_past___2\":\"avonex\",\n",
    "    \"dmtlist_past___3\":\"betaseron\",\n",
    "    \"dmtlist_past___4\":\"copaxone\",\n",
    "    \"dmtlist_past___5\":\"extavia\",\n",
    "    \"dmtlist_past___6\":\"gilenya\",\n",
    "    \"dmtlist_past___7\":\"novantrone\",\n",
    "    \"dmtlist_past___8\":\"plegridy\",\n",
    "    \"dmtlist_past___9\":\"rebif\",\n",
    "    \"dmtlist_past___10\":\"tecfidera\",\n",
    "    \"dmtlist_past___11\":\"tysabri\",\n",
    "    \"dmtlist_past___12\":\"other\",\n",
    "    \"dmtlist_past___13\":\"rituxan\",\n",
    "    \"dmtlist_past___14\":\"zinbryta\",\n",
    "    \"dmtlist_past___15\":\"ocrevus\",\n",
    "    \"dmtlist_past___16\":\"lemtrada\",\n",
    "}"
   ]
  },
  {
   "cell_type": "code",
   "execution_count": 16,
   "metadata": {},
   "outputs": [
    {
     "name": "stdout",
     "output_type": "stream",
     "text": [
      "IVGA, PLAMSAMA PHESIS, CHEMO\n"
     ]
    }
   ],
   "source": [
    "import math\n",
    "for i, row in self_df.iterrows():\n",
    "    a = row.dmt_past\n",
    "    if a == 1 or a == 2:\n",
    "        index = 1\n",
    "        for i in range(12):\n",
    "            col_name = 'dmtlist_past___' + str(i+1)\n",
    "            if row[col_name] == 1:\n",
    "                cols = []\n",
    "                cols.append(col_name)\n",
    "                for a in cols:\n",
    "                    if a == \"dmtlist_past___12\":\n",
    "                        print(row.dmt_past_other)\n",
    "                        break\n",
    "                    col_name2 = 'dmt_past_'+ dmtlist_ref[a] +'_duration'\n",
    "                    if row[col_name2] == math.nan:\n",
    "                        print(row.id_participant)\n",
    "                    col_name3 = 'dmt_past_'+ dmtlist_ref[a] +'_start'\n",
    "                    if col_name3 == 'dmt_past_copaxone_start': \n",
    "                        col_name3 = 'dmt_past_copaxon_start' \n",
    "                    if row[col_name3] == math.nan:\n",
    "                        print(row.id_participant)\n",
    "                    col_name4 = 'dmt_past_'+ dmtlist_ref[a] +'_stop'\n",
    "                    if row[col_name3] == math.nan:\n",
    "                        print(row.id_participant)"
   ]
  },
  {
   "cell_type": "code",
   "execution_count": 17,
   "metadata": {},
   "outputs": [
    {
     "name": "stdout",
     "output_type": "stream",
     "text": [
      "5\n",
      "116\n"
     ]
    }
   ],
   "source": [
    "ex_start = self_df.columns.get_loc(\"dmt_now\")\n",
    "print(ex_start)\n",
    "ex_end = self_df.columns.get_loc(\"dmt_past_zinbryta_stop\") +1\n",
    "print(ex_end)\n"
   ]
  },
  {
   "cell_type": "code",
   "execution_count": 18,
   "metadata": {},
   "outputs": [],
   "source": [
    "df = self_df.drop(self_df.iloc[:, 5:116], axis = 1)"
   ]
  },
  {
   "cell_type": "code",
   "execution_count": 19,
   "metadata": {},
   "outputs": [
    {
     "data": {
      "text/html": [
       "<div>\n",
       "<style scoped>\n",
       "    .dataframe tbody tr th:only-of-type {\n",
       "        vertical-align: middle;\n",
       "    }\n",
       "\n",
       "    .dataframe tbody tr th {\n",
       "        vertical-align: top;\n",
       "    }\n",
       "\n",
       "    .dataframe thead th {\n",
       "        text-align: right;\n",
       "    }\n",
       "</style>\n",
       "<table border=\"1\" class=\"dataframe\">\n",
       "  <thead>\n",
       "    <tr style=\"text-align: right;\">\n",
       "      <th></th>\n",
       "      <th>age_sro</th>\n",
       "      <th>sex_sro</th>\n",
       "      <th>ms_category</th>\n",
       "      <th>ms_neurocare</th>\n",
       "      <th>fams4_mobility_gp3_familyneed</th>\n",
       "      <th>fams4_mobility_gf1_work</th>\n",
       "      <th>fams4_mobility_an6_walking</th>\n",
       "      <th>fams4_mobility_itu3_social</th>\n",
       "      <th>fams4_mobility_cn55_legs</th>\n",
       "      <th>fams4_mobility_ms1_public</th>\n",
       "      <th>...</th>\n",
       "      <th>ltsu___3</th>\n",
       "      <th>ltsu___4</th>\n",
       "      <th>ltsu___5</th>\n",
       "      <th>ltsu___6</th>\n",
       "      <th>ltsu___7</th>\n",
       "      <th>ltsu___8</th>\n",
       "      <th>ltsu___9</th>\n",
       "      <th>ltsu___0</th>\n",
       "      <th>ltsu___99</th>\n",
       "      <th>promote_self_reported_outcomes_complete</th>\n",
       "    </tr>\n",
       "  </thead>\n",
       "  <tbody>\n",
       "    <tr>\n",
       "      <th>count</th>\n",
       "      <td>47.000000</td>\n",
       "      <td>47.000000</td>\n",
       "      <td>21.000000</td>\n",
       "      <td>23.000000</td>\n",
       "      <td>45.000000</td>\n",
       "      <td>45.000000</td>\n",
       "      <td>45.000000</td>\n",
       "      <td>45.000000</td>\n",
       "      <td>45.000000</td>\n",
       "      <td>44.000000</td>\n",
       "      <td>...</td>\n",
       "      <td>762.000000</td>\n",
       "      <td>762.000000</td>\n",
       "      <td>762.0</td>\n",
       "      <td>762.000000</td>\n",
       "      <td>762.000000</td>\n",
       "      <td>762.0</td>\n",
       "      <td>762.000000</td>\n",
       "      <td>762.000000</td>\n",
       "      <td>762.0</td>\n",
       "      <td>762.000000</td>\n",
       "    </tr>\n",
       "    <tr>\n",
       "      <th>mean</th>\n",
       "      <td>54.170213</td>\n",
       "      <td>1.255319</td>\n",
       "      <td>3.809524</td>\n",
       "      <td>0.869565</td>\n",
       "      <td>0.422222</td>\n",
       "      <td>2.822222</td>\n",
       "      <td>0.533333</td>\n",
       "      <td>0.466667</td>\n",
       "      <td>2.844444</td>\n",
       "      <td>0.477273</td>\n",
       "      <td>...</td>\n",
       "      <td>0.002625</td>\n",
       "      <td>0.002625</td>\n",
       "      <td>0.0</td>\n",
       "      <td>0.002625</td>\n",
       "      <td>0.006562</td>\n",
       "      <td>0.0</td>\n",
       "      <td>0.005249</td>\n",
       "      <td>0.031496</td>\n",
       "      <td>0.0</td>\n",
       "      <td>0.099738</td>\n",
       "    </tr>\n",
       "    <tr>\n",
       "      <th>std</th>\n",
       "      <td>13.719740</td>\n",
       "      <td>0.440755</td>\n",
       "      <td>1.249762</td>\n",
       "      <td>0.344350</td>\n",
       "      <td>0.783027</td>\n",
       "      <td>1.641630</td>\n",
       "      <td>0.967659</td>\n",
       "      <td>0.842075</td>\n",
       "      <td>1.380967</td>\n",
       "      <td>0.952076</td>\n",
       "      <td>...</td>\n",
       "      <td>0.051198</td>\n",
       "      <td>0.051198</td>\n",
       "      <td>0.0</td>\n",
       "      <td>0.051198</td>\n",
       "      <td>0.080791</td>\n",
       "      <td>0.0</td>\n",
       "      <td>0.072309</td>\n",
       "      <td>0.174769</td>\n",
       "      <td>0.0</td>\n",
       "      <td>0.435633</td>\n",
       "    </tr>\n",
       "    <tr>\n",
       "      <th>min</th>\n",
       "      <td>22.000000</td>\n",
       "      <td>1.000000</td>\n",
       "      <td>1.000000</td>\n",
       "      <td>0.000000</td>\n",
       "      <td>0.000000</td>\n",
       "      <td>0.000000</td>\n",
       "      <td>0.000000</td>\n",
       "      <td>0.000000</td>\n",
       "      <td>0.000000</td>\n",
       "      <td>0.000000</td>\n",
       "      <td>...</td>\n",
       "      <td>0.000000</td>\n",
       "      <td>0.000000</td>\n",
       "      <td>0.0</td>\n",
       "      <td>0.000000</td>\n",
       "      <td>0.000000</td>\n",
       "      <td>0.0</td>\n",
       "      <td>0.000000</td>\n",
       "      <td>0.000000</td>\n",
       "      <td>0.0</td>\n",
       "      <td>0.000000</td>\n",
       "    </tr>\n",
       "    <tr>\n",
       "      <th>25%</th>\n",
       "      <td>49.000000</td>\n",
       "      <td>1.000000</td>\n",
       "      <td>4.000000</td>\n",
       "      <td>1.000000</td>\n",
       "      <td>0.000000</td>\n",
       "      <td>1.000000</td>\n",
       "      <td>0.000000</td>\n",
       "      <td>0.000000</td>\n",
       "      <td>2.000000</td>\n",
       "      <td>0.000000</td>\n",
       "      <td>...</td>\n",
       "      <td>0.000000</td>\n",
       "      <td>0.000000</td>\n",
       "      <td>0.0</td>\n",
       "      <td>0.000000</td>\n",
       "      <td>0.000000</td>\n",
       "      <td>0.0</td>\n",
       "      <td>0.000000</td>\n",
       "      <td>0.000000</td>\n",
       "      <td>0.0</td>\n",
       "      <td>0.000000</td>\n",
       "    </tr>\n",
       "    <tr>\n",
       "      <th>50%</th>\n",
       "      <td>56.000000</td>\n",
       "      <td>1.000000</td>\n",
       "      <td>4.000000</td>\n",
       "      <td>1.000000</td>\n",
       "      <td>0.000000</td>\n",
       "      <td>4.000000</td>\n",
       "      <td>0.000000</td>\n",
       "      <td>0.000000</td>\n",
       "      <td>3.000000</td>\n",
       "      <td>0.000000</td>\n",
       "      <td>...</td>\n",
       "      <td>0.000000</td>\n",
       "      <td>0.000000</td>\n",
       "      <td>0.0</td>\n",
       "      <td>0.000000</td>\n",
       "      <td>0.000000</td>\n",
       "      <td>0.0</td>\n",
       "      <td>0.000000</td>\n",
       "      <td>0.000000</td>\n",
       "      <td>0.0</td>\n",
       "      <td>0.000000</td>\n",
       "    </tr>\n",
       "    <tr>\n",
       "      <th>75%</th>\n",
       "      <td>66.000000</td>\n",
       "      <td>1.500000</td>\n",
       "      <td>4.000000</td>\n",
       "      <td>1.000000</td>\n",
       "      <td>1.000000</td>\n",
       "      <td>4.000000</td>\n",
       "      <td>1.000000</td>\n",
       "      <td>1.000000</td>\n",
       "      <td>4.000000</td>\n",
       "      <td>0.000000</td>\n",
       "      <td>...</td>\n",
       "      <td>0.000000</td>\n",
       "      <td>0.000000</td>\n",
       "      <td>0.0</td>\n",
       "      <td>0.000000</td>\n",
       "      <td>0.000000</td>\n",
       "      <td>0.0</td>\n",
       "      <td>0.000000</td>\n",
       "      <td>0.000000</td>\n",
       "      <td>0.0</td>\n",
       "      <td>0.000000</td>\n",
       "    </tr>\n",
       "    <tr>\n",
       "      <th>max</th>\n",
       "      <td>74.000000</td>\n",
       "      <td>2.000000</td>\n",
       "      <td>7.000000</td>\n",
       "      <td>1.000000</td>\n",
       "      <td>3.000000</td>\n",
       "      <td>4.000000</td>\n",
       "      <td>3.000000</td>\n",
       "      <td>3.000000</td>\n",
       "      <td>4.000000</td>\n",
       "      <td>3.000000</td>\n",
       "      <td>...</td>\n",
       "      <td>1.000000</td>\n",
       "      <td>1.000000</td>\n",
       "      <td>0.0</td>\n",
       "      <td>1.000000</td>\n",
       "      <td>1.000000</td>\n",
       "      <td>0.0</td>\n",
       "      <td>1.000000</td>\n",
       "      <td>1.000000</td>\n",
       "      <td>0.0</td>\n",
       "      <td>2.000000</td>\n",
       "    </tr>\n",
       "  </tbody>\n",
       "</table>\n",
       "<p>8 rows × 175 columns</p>\n",
       "</div>"
      ],
      "text/plain": [
       "         age_sro    sex_sro  ms_category  ms_neurocare  \\\n",
       "count  47.000000  47.000000    21.000000     23.000000   \n",
       "mean   54.170213   1.255319     3.809524      0.869565   \n",
       "std    13.719740   0.440755     1.249762      0.344350   \n",
       "min    22.000000   1.000000     1.000000      0.000000   \n",
       "25%    49.000000   1.000000     4.000000      1.000000   \n",
       "50%    56.000000   1.000000     4.000000      1.000000   \n",
       "75%    66.000000   1.500000     4.000000      1.000000   \n",
       "max    74.000000   2.000000     7.000000      1.000000   \n",
       "\n",
       "       fams4_mobility_gp3_familyneed  fams4_mobility_gf1_work  \\\n",
       "count                      45.000000                45.000000   \n",
       "mean                        0.422222                 2.822222   \n",
       "std                         0.783027                 1.641630   \n",
       "min                         0.000000                 0.000000   \n",
       "25%                         0.000000                 1.000000   \n",
       "50%                         0.000000                 4.000000   \n",
       "75%                         1.000000                 4.000000   \n",
       "max                         3.000000                 4.000000   \n",
       "\n",
       "       fams4_mobility_an6_walking  fams4_mobility_itu3_social  \\\n",
       "count                   45.000000                   45.000000   \n",
       "mean                     0.533333                    0.466667   \n",
       "std                      0.967659                    0.842075   \n",
       "min                      0.000000                    0.000000   \n",
       "25%                      0.000000                    0.000000   \n",
       "50%                      0.000000                    0.000000   \n",
       "75%                      1.000000                    1.000000   \n",
       "max                      3.000000                    3.000000   \n",
       "\n",
       "       fams4_mobility_cn55_legs  fams4_mobility_ms1_public  ...    ltsu___3  \\\n",
       "count                 45.000000                  44.000000  ...  762.000000   \n",
       "mean                   2.844444                   0.477273  ...    0.002625   \n",
       "std                    1.380967                   0.952076  ...    0.051198   \n",
       "min                    0.000000                   0.000000  ...    0.000000   \n",
       "25%                    2.000000                   0.000000  ...    0.000000   \n",
       "50%                    3.000000                   0.000000  ...    0.000000   \n",
       "75%                    4.000000                   0.000000  ...    0.000000   \n",
       "max                    4.000000                   3.000000  ...    1.000000   \n",
       "\n",
       "         ltsu___4  ltsu___5    ltsu___6    ltsu___7  ltsu___8    ltsu___9  \\\n",
       "count  762.000000     762.0  762.000000  762.000000     762.0  762.000000   \n",
       "mean     0.002625       0.0    0.002625    0.006562       0.0    0.005249   \n",
       "std      0.051198       0.0    0.051198    0.080791       0.0    0.072309   \n",
       "min      0.000000       0.0    0.000000    0.000000       0.0    0.000000   \n",
       "25%      0.000000       0.0    0.000000    0.000000       0.0    0.000000   \n",
       "50%      0.000000       0.0    0.000000    0.000000       0.0    0.000000   \n",
       "75%      0.000000       0.0    0.000000    0.000000       0.0    0.000000   \n",
       "max      1.000000       0.0    1.000000    1.000000       0.0    1.000000   \n",
       "\n",
       "         ltsu___0  ltsu___99  promote_self_reported_outcomes_complete  \n",
       "count  762.000000      762.0                               762.000000  \n",
       "mean     0.031496        0.0                                 0.099738  \n",
       "std      0.174769        0.0                                 0.435633  \n",
       "min      0.000000        0.0                                 0.000000  \n",
       "25%      0.000000        0.0                                 0.000000  \n",
       "50%      0.000000        0.0                                 0.000000  \n",
       "75%      0.000000        0.0                                 0.000000  \n",
       "max      1.000000        0.0                                 2.000000  \n",
       "\n",
       "[8 rows x 175 columns]"
      ]
     },
     "execution_count": 19,
     "metadata": {},
     "output_type": "execute_result"
    }
   ],
   "source": [
    "df.describe()"
   ]
  },
  {
   "cell_type": "code",
   "execution_count": 20,
   "metadata": {},
   "outputs": [],
   "source": [
    "complete_df = df[df['promote_self_reported_outcomes_complete']==2]"
   ]
  },
  {
   "cell_type": "code",
   "execution_count": 21,
   "metadata": {},
   "outputs": [],
   "source": [
    "nans = lambda complete_df: complete_df[complete_df.isnull().any(axis=1)]"
   ]
  },
  {
   "cell_type": "code",
   "execution_count": 23,
   "metadata": {},
   "outputs": [],
   "source": [
    "nan_record = nans(complete_df)"
   ]
  },
  {
   "cell_type": "code",
   "execution_count": 24,
   "metadata": {},
   "outputs": [],
   "source": [
    "nan_record.to_csv(\"promote_self_reported_outcomes_complete.csv\")"
   ]
  },
  {
   "cell_type": "markdown",
   "metadata": {},
   "source": [
    "### Primary questionarrie"
   ]
  },
  {
   "cell_type": "code",
   "execution_count": 26,
   "metadata": {},
   "outputs": [
    {
     "data": {
      "text/plain": [
       "['primary_questionnaire_timestamp',\n",
       " 'dob_pq',\n",
       " 'age_pq',\n",
       " 'sex_pq',\n",
       " 'race',\n",
       " 'race_other',\n",
       " 'ethnicity',\n",
       " 'country_birth',\n",
       " 'country_birth_other',\n",
       " 'place_birth',\n",
       " 'state_birth',\n",
       " 'address_birth',\n",
       " 'city_birth',\n",
       " 'zipcode_birth',\n",
       " 'country_15',\n",
       " 'country_15_other',\n",
       " 'place_15',\n",
       " 'state_15',\n",
       " 'address_15',\n",
       " 'city_15',\n",
       " 'zipcode_15',\n",
       " 'state_now',\n",
       " 'street_now',\n",
       " 'city_now',\n",
       " 'zipcode_now',\n",
       " 'duration_place_current',\n",
       " 'ht_now_ft',\n",
       " 'ht_now_inch',\n",
       " 'wt_now_lbs',\n",
       " 'ht_18_ft',\n",
       " 'ht_18_inch',\n",
       " 'wt_18_lbs',\n",
       " 'dx_ms',\n",
       " 'dx_ms_age',\n",
       " 'ms1sx_age',\n",
       " 'dx_neuro_list',\n",
       " 'dx_neuro___1',\n",
       " 'dx_neuro___2',\n",
       " 'dx_neuro___3',\n",
       " 'dx_neuro___4',\n",
       " 'dx_neuro___5',\n",
       " 'dx_neuro___6',\n",
       " 'dx_neuro___7',\n",
       " 'dx_neuro___8',\n",
       " 'dx_neuro___9',\n",
       " 'dx_neuro___10',\n",
       " 'dx_neuro___11',\n",
       " 'dx_neuro___12',\n",
       " 'dx_neuro___13',\n",
       " 'dx_neuro___22',\n",
       " 'dx_neuro___14',\n",
       " 'dx_neuro___15',\n",
       " 'dx_neuro___16',\n",
       " 'dx_neuro___17',\n",
       " 'dx_neuro___18',\n",
       " 'dx_neuro___19',\n",
       " 'dx_neuro___20',\n",
       " 'dx_neuro___21',\n",
       " 'dx_neuro___90',\n",
       " 'dx_neuro_other',\n",
       " 'dx_med_list',\n",
       " 'dx_med___1',\n",
       " 'dx_med___2',\n",
       " 'dx_med___3',\n",
       " 'dx_med___4',\n",
       " 'dx_med___5',\n",
       " 'dx_med___6',\n",
       " 'dx_med___7',\n",
       " 'dx_med___8',\n",
       " 'dx_med___9',\n",
       " 'dx_med___10',\n",
       " 'dx_med___11',\n",
       " 'dx_med___12',\n",
       " 'dx_med___13',\n",
       " 'dx_med___14',\n",
       " 'dx_med___15',\n",
       " 'dx_med___16',\n",
       " 'dx_med___17',\n",
       " 'dx_med___18',\n",
       " 'dx_med___19',\n",
       " 'dx_med___20',\n",
       " 'dx_med___90',\n",
       " 'dx_med_other',\n",
       " 'cig',\n",
       " 'cig_now',\n",
       " 'cig_avg',\n",
       " 'cig_age_start',\n",
       " 'cig_age_quit',\n",
       " 'cig_2nd',\n",
       " 'ecig',\n",
       " 'ecig_now',\n",
       " 'ecig_avg',\n",
       " 'ecig_age_begin',\n",
       " 'ecig_nicotine',\n",
       " 'ecig_age_quit',\n",
       " 'etoh',\n",
       " 'mono',\n",
       " 'mono_age',\n",
       " 'sun_reaction',\n",
       " 'sun_tan',\n",
       " 'mv',\n",
       " 'mv_brand',\n",
       " 'mv_freq',\n",
       " 'vitd',\n",
       " 'vitd_dosage',\n",
       " 'fmhx_ms',\n",
       " 'fmhx_ms_total',\n",
       " 'fmhx_ms_relation___1',\n",
       " 'fmhx_ms_relation___2',\n",
       " 'fmhx_ms_relation___3',\n",
       " 'fmhx_ms_relation___4',\n",
       " 'fmhx_ms_relation___5',\n",
       " 'fmhx_ms_relation___6',\n",
       " 'fmhx_ms_relation___7',\n",
       " 'fmhx_ms_relation___8',\n",
       " 'fmhx_ms_relation___9',\n",
       " 'fmhx_ms_relation___10',\n",
       " 'fmhx_ms_relation___11',\n",
       " 'fmhx_ms_relation___12',\n",
       " 'fmhx_ms_relation___90',\n",
       " 'fmhx_ms_dtr',\n",
       " 'fmhx_ms_son',\n",
       " 'fmhx_ms_bro',\n",
       " 'fmhx_ms_sis',\n",
       " 'fmhx_ms_other',\n",
       " 'fdrelatives',\n",
       " 'family___1',\n",
       " 'family___2',\n",
       " 'family___3',\n",
       " 'family___4',\n",
       " 'family___5',\n",
       " 'family___6',\n",
       " 'family___7',\n",
       " 'family___8',\n",
       " 'family___9',\n",
       " 'family___10',\n",
       " 'family___11',\n",
       " 'family___12',\n",
       " 'family___13',\n",
       " 'family___14',\n",
       " 'family___15',\n",
       " 'family___16',\n",
       " 'daughters',\n",
       " 'sons',\n",
       " 'brothers',\n",
       " 'sisters',\n",
       " 'maternal_aunts',\n",
       " 'maternal_uncles',\n",
       " 'maternal_cousins',\n",
       " 'paternal_aunts',\n",
       " 'paternal_uncles',\n",
       " 'paternal_cousins',\n",
       " 'primary_questionnaire_complete',\n",
       " 'id_participant']"
      ]
     },
     "execution_count": 26,
     "metadata": {},
     "output_type": "execute_result"
    }
   ],
   "source": [
    "#list(primary_df)"
   ]
  },
  {
   "cell_type": "code",
   "execution_count": 27,
   "metadata": {},
   "outputs": [],
   "source": [
    "complete_records_primary = primary_df[primary_df['primary_questionnaire_complete']==2]"
   ]
  },
  {
   "cell_type": "code",
   "execution_count": 28,
   "metadata": {},
   "outputs": [],
   "source": [
    "nans = lambda complete_records_primary: complete_records_primary[complete_records_primary.isnull().any(axis=1)]"
   ]
  },
  {
   "cell_type": "code",
   "execution_count": 29,
   "metadata": {},
   "outputs": [],
   "source": [
    "pdf = nans(complete_records_primary)"
   ]
  },
  {
   "cell_type": "code",
   "execution_count": 31,
   "metadata": {},
   "outputs": [],
   "source": [
    "pdf.to_csv(\"primary_questionnaire_complete.csv\")"
   ]
  },
  {
   "cell_type": "code",
   "execution_count": 32,
   "metadata": {},
   "outputs": [
    {
     "name": "stdout",
     "output_type": "stream",
     "text": [
      "461\n",
      "876\n"
     ]
    }
   ],
   "source": [
    "u_start = long.columns.get_loc(\"dob_8e881e\")\n",
    "print(u_start)\n",
    "u_end = long.columns.get_loc(\"update_questionnaire_complete\")+1\n",
    "print(u_end)"
   ]
  },
  {
   "cell_type": "code",
   "execution_count": 33,
   "metadata": {},
   "outputs": [
    {
     "data": {
      "text/plain": [
       "(1102, 416)"
      ]
     },
     "execution_count": 33,
     "metadata": {},
     "output_type": "execute_result"
    }
   ],
   "source": [
    "update_df = long.iloc[:,u_start:u_end]\n",
    "update_df['id_participant'] = id_series\n",
    "update_df.shape"
   ]
  },
  {
   "cell_type": "markdown",
   "metadata": {},
   "source": [
    "### Food Frequency"
   ]
  },
  {
   "cell_type": "code",
   "execution_count": 36,
   "metadata": {},
   "outputs": [
    {
     "name": "stdout",
     "output_type": "stream",
     "text": [
      "877\n",
      "1104\n"
     ]
    }
   ],
   "source": [
    "f_start = long.columns.get_loc(\"dob_ffq\")\n",
    "print(f_start)\n",
    "f_end = long.columns.get_loc(\"food_frequency_complete\")+1\n",
    "print(f_end)"
   ]
  },
  {
   "cell_type": "code",
   "execution_count": 37,
   "metadata": {},
   "outputs": [
    {
     "data": {
      "text/plain": [
       "(1102, 228)"
      ]
     },
     "execution_count": 37,
     "metadata": {},
     "output_type": "execute_result"
    }
   ],
   "source": [
    "food_df = long.iloc[:,f_start:f_end]\n",
    "food_df['id_participant'] = id_series\n",
    "food_df.shape"
   ]
  },
  {
   "cell_type": "code",
   "execution_count": 40,
   "metadata": {},
   "outputs": [],
   "source": [
    "#list(food_df)"
   ]
  },
  {
   "cell_type": "code",
   "execution_count": 43,
   "metadata": {},
   "outputs": [],
   "source": [
    "complete_records_food = food_df[food_df['food_frequency_complete']==2]\n",
    "nans = lambda complete_records_food: complete_records_food[complete_records_food.isnull().any(axis=1)]\n",
    "fdf = nans(complete_records_food)\n",
    "fdf.to_csv(\"food_frequency_complete.csv\")"
   ]
  },
  {
   "cell_type": "code",
   "execution_count": null,
   "metadata": {},
   "outputs": [],
   "source": []
  },
  {
   "cell_type": "code",
   "execution_count": null,
   "metadata": {},
   "outputs": [],
   "source": []
  }
 ],
 "metadata": {
  "kernelspec": {
   "display_name": "Python 3",
   "language": "python",
   "name": "python3"
  },
  "language_info": {
   "codemirror_mode": {
    "name": "ipython",
    "version": 3
   },
   "file_extension": ".py",
   "mimetype": "text/x-python",
   "name": "python",
   "nbconvert_exporter": "python",
   "pygments_lexer": "ipython3",
   "version": "3.6.8"
  }
 },
 "nbformat": 4,
 "nbformat_minor": 2
}
